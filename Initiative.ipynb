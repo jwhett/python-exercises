{
 "cells": [
  {
   "cell_type": "markdown",
   "metadata": {},
   "source": [
    "# Initiative"
   ]
  },
  {
   "cell_type": "markdown",
   "metadata": {},
   "source": [
    "## Objectives\n",
    "\n",
    "- List of entities\n",
    "- List sorted by randomly \"rolled\" initiative\n",
    "\n",
    "**Bonus**\n",
    "\n",
    "- Refactor to use Classes\n",
    "- List indicates current turn\n",
    "- Dice roller\n",
    "- Entities have atomically increasing names\n",
    "- Entities have a random HP pool\n",
    "- Entities can attack and take damage"
   ]
  },
  {
   "cell_type": "markdown",
   "metadata": {},
   "source": [
    "## List of Entities\n",
    "\n",
    "Simple list of names."
   ]
  },
  {
   "cell_type": "code",
   "execution_count": 1,
   "metadata": {},
   "outputs": [],
   "source": [
    "entities = [\"rudy\", \"necro\", \"bambi\", \"steve\"]"
   ]
  },
  {
   "cell_type": "markdown",
   "metadata": {},
   "source": [
    "## \"Rolling\" Initiative\n",
    "\n",
    "Need to randomly _roll_ for initiative. `random` package has `randint()` for that. [Random link](https://pythonprogramminglanguage.com/randon-numbers/)"
   ]
  },
  {
   "cell_type": "markdown",
   "metadata": {},
   "source": [
    "### dictionaries"
   ]
  },
  {
   "cell_type": "code",
   "execution_count": 2,
   "metadata": {},
   "outputs": [],
   "source": [
    "from random import randint"
   ]
  },
  {
   "cell_type": "markdown",
   "metadata": {},
   "source": [
    "We will use a `for` loop as the first example."
   ]
  },
  {
   "cell_type": "code",
   "execution_count": 3,
   "metadata": {},
   "outputs": [
    {
     "name": "stdout",
     "output_type": "stream",
     "text": [
      "[{'name': 'rudy', 'init': 2}, {'name': 'necro', 'init': 15}, {'name': 'bambi', 'init': 3}, {'name': 'steve', 'init': 17}]\n"
     ]
    }
   ],
   "source": [
    "# empty list to store our entities paired with initiative\n",
    "initiative_list = []\n",
    "\n",
    "for name in entities:\n",
    "    # append each dictionary containing the name and randomly\n",
    "    # generated initiative to our initiative_list\n",
    "    entity = {}\n",
    "    entity[\"name\"] = name\n",
    "    entity[\"init\"] = randint(1, 20)\n",
    "    \n",
    "    initiative_list.append(entity)\n",
    "\n",
    "# see if we got it right\n",
    "print(initiative_list)"
   ]
  },
  {
   "cell_type": "code",
   "execution_count": 4,
   "metadata": {},
   "outputs": [
    {
     "name": "stdout",
     "output_type": "stream",
     "text": [
      "[{'name': 'rudy', 'init': 15}, {'name': 'necro', 'init': 20}, {'name': 'bambi', 'init': 9}, {'name': 'steve', 'init': 17}]\n"
     ]
    }
   ],
   "source": [
    "# short version\n",
    "initiative_list = []\n",
    "\n",
    "for name in entities:\n",
    "    initiative_list.append({\"name\": name, \"init\": randint(1, 20)})\n",
    "\n",
    "# see if we got it right\n",
    "print(initiative_list)"
   ]
  },
  {
   "cell_type": "markdown",
   "metadata": {},
   "source": [
    "Much shorter version, but requires knowledge of _list comprehensions_."
   ]
  },
  {
   "cell_type": "code",
   "execution_count": 5,
   "metadata": {},
   "outputs": [
    {
     "name": "stdout",
     "output_type": "stream",
     "text": [
      "[{'name': 'rudy', 'init': 9}, {'name': 'necro', 'init': 6}, {'name': 'bambi', 'init': 18}, {'name': 'steve', 'init': 6}]\n"
     ]
    }
   ],
   "source": [
    "initiative_list_comprehension = [{\"name\": name, \"init\": randint(1, 20)} for name in entities]\n",
    "print(initiative_list_comprehension)"
   ]
  },
  {
   "cell_type": "markdown",
   "metadata": {},
   "source": [
    "## Sorting by Initiative\n",
    "\n",
    "this is going to look strange, but it's way easier this way. [Sorting link](https://docs.python.org/3/howto/sorting.html)"
   ]
  },
  {
   "cell_type": "code",
   "execution_count": 6,
   "metadata": {},
   "outputs": [
    {
     "name": "stdout",
     "output_type": "stream",
     "text": [
      "[{'name': 'bambi', 'init': 9}, {'name': 'rudy', 'init': 15}, {'name': 'steve', 'init': 17}, {'name': 'necro', 'init': 20}]\n"
     ]
    }
   ],
   "source": [
    "sorted_initiative = sorted(initiative_list, key=lambda entity: entity[\"init\"])\n",
    "\n",
    "# look at the sorted list\n",
    "print(sorted_initiative)"
   ]
  },
  {
   "cell_type": "markdown",
   "metadata": {},
   "source": [
    "It's sorted! Well, not exactly the way we wanted though... Initiative order is _descending_. `sorted()` takes a `reverse` argument that is `False` by default. Let's fix the order."
   ]
  },
  {
   "cell_type": "code",
   "execution_count": 7,
   "metadata": {},
   "outputs": [
    {
     "name": "stdout",
     "output_type": "stream",
     "text": [
      "[{'name': 'necro', 'init': 20}, {'name': 'steve', 'init': 17}, {'name': 'rudy', 'init': 15}, {'name': 'bambi', 'init': 9}]\n"
     ]
    }
   ],
   "source": [
    "sorted_initiative = sorted(initiative_list, key=lambda entity: entity[\"init\"], reverse=True)\n",
    "\n",
    "# look at the sorted list\n",
    "print(sorted_initiative)"
   ]
  },
  {
   "cell_type": "markdown",
   "metadata": {},
   "source": [
    "## Display the Initiative Order\n",
    "\n",
    "This output is fine for development and for a handful of entities, but this is not at all easy to read. Pretty print!"
   ]
  },
  {
   "cell_type": "code",
   "execution_count": 8,
   "metadata": {},
   "outputs": [
    {
     "name": "stdout",
     "output_type": "stream",
     "text": [
      "Initiative Order\n",
      "20: necro\n",
      "17: steve\n",
      "15: rudy\n",
      "9: bambi\n"
     ]
    }
   ],
   "source": [
    "print(\"Initiative Order\")\n",
    "for entity in sorted_initiative:\n",
    "    print(f'{entity[\"init\"]}: {entity[\"name\"]}')\n",
    "    "
   ]
  },
  {
   "cell_type": "markdown",
   "metadata": {},
   "source": [
    "summary and checkout the bonus!"
   ]
  },
  {
   "cell_type": "markdown",
   "metadata": {},
   "source": [
    "# Bonus"
   ]
  },
  {
   "cell_type": "markdown",
   "metadata": {},
   "source": [
    "Reminder of the bonus objectives:\n",
    "\n",
    "- Refactor to use Classes\n",
    "- List indicates current turn\n",
    "- Dice roller\n",
    "- Entities have atomically increasing names\n",
    "- Entities have a random HP pool\n",
    "- Entities can attack and take damage"
   ]
  }
 ],
 "metadata": {
  "kernelspec": {
   "display_name": "Python 3",
   "language": "python",
   "name": "python3"
  },
  "language_info": {
   "codemirror_mode": {
    "name": "ipython",
    "version": 3
   },
   "file_extension": ".py",
   "mimetype": "text/x-python",
   "name": "python",
   "nbconvert_exporter": "python",
   "pygments_lexer": "ipython3",
   "version": "3.7.3"
  }
 },
 "nbformat": 4,
 "nbformat_minor": 2
}
