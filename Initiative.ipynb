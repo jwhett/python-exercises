{
 "cells": [
  {
   "cell_type": "markdown",
   "metadata": {},
   "source": [
    "# Initiative"
   ]
  },
  {
   "cell_type": "markdown",
   "metadata": {},
   "source": [
    "## Objectives\n",
    "\n",
    "- List of entities\n",
    "- List sorted by randomly \"rolled\" initiative\n",
    "\n",
    "**Bonus**\n",
    "\n",
    "- Dice roller\n",
    "- Refactor to use Classes\n",
    "- List indicates current turn\n",
    "- Entities have a random HP pool"
   ]
  },
  {
   "cell_type": "markdown",
   "metadata": {},
   "source": [
    "## List of Entities\n",
    "\n",
    "We are going to create a simple [list](https://developers.google.com/edu/python/lists) of names to indicate our players."
   ]
  },
  {
   "cell_type": "code",
   "execution_count": 1,
   "metadata": {},
   "outputs": [],
   "source": [
    "entities = [\"rudy\", \"necro\", \"bambi\", \"steve\"]"
   ]
  },
  {
   "cell_type": "markdown",
   "metadata": {},
   "source": [
    "### Dictionaries\n",
    "\n",
    "A [dictionary](https://developers.google.com/edu/python/dict-files) is a collection of `key`: `value` pairs. This will allow us to track some basic information about our players: `name` and `init` (initiative)"
   ]
  },
  {
   "cell_type": "markdown",
   "metadata": {},
   "source": [
    "## \"Rolling\" Initiative\n",
    "\n",
    "Since initiative is normally rolled, we will need to randomly _roll_ for initiative. `random` package has `randint()` for that. [More on random numbers](https://pythonprogramminglanguage.com/randon-numbers/) and [importing modules](https://docs.python.org/3/reference/import.html)."
   ]
  },
  {
   "cell_type": "code",
   "execution_count": 2,
   "metadata": {},
   "outputs": [],
   "source": [
    "from random import randint"
   ]
  },
  {
   "cell_type": "markdown",
   "metadata": {},
   "source": [
    "We will use a [`for`](https://developers.google.com/edu/python/lists#for-and-in) loop as the first example."
   ]
  },
  {
   "cell_type": "code",
   "execution_count": 3,
   "metadata": {},
   "outputs": [
    {
     "name": "stdout",
     "output_type": "stream",
     "text": [
      "[{'name': 'rudy', 'init': 15}, {'name': 'necro', 'init': 3}, {'name': 'bambi', 'init': 11}, {'name': 'steve', 'init': 2}]\n"
     ]
    }
   ],
   "source": [
    "# empty list to store our entities paired with initiative\n",
    "initiative_list = []\n",
    "\n",
    "for name in entities:\n",
    "    # append each dictionary containing the name and randomly\n",
    "    # generated initiative to our initiative_list\n",
    "    entity = {}\n",
    "    entity[\"name\"] = name\n",
    "    entity[\"init\"] = randint(1, 20)\n",
    "    \n",
    "    initiative_list.append(entity)\n",
    "\n",
    "# see if we got it right\n",
    "print(initiative_list)"
   ]
  },
  {
   "cell_type": "code",
   "execution_count": 4,
   "metadata": {},
   "outputs": [
    {
     "name": "stdout",
     "output_type": "stream",
     "text": [
      "[{'name': 'rudy', 'init': 18}, {'name': 'necro', 'init': 4}, {'name': 'bambi', 'init': 6}, {'name': 'steve', 'init': 17}]\n"
     ]
    }
   ],
   "source": [
    "# short version\n",
    "initiative_list = []\n",
    "\n",
    "for name in entities:\n",
    "    initiative_list.append({\"name\": name, \"init\": randint(1, 20)})\n",
    "\n",
    "# see if we got it right\n",
    "print(initiative_list)"
   ]
  },
  {
   "cell_type": "markdown",
   "metadata": {},
   "source": [
    "Much shorter version, but requires knowledge of [_list comprehensions_](https://www.w3schools.com/python/python_lists_comprehension.asp)."
   ]
  },
  {
   "cell_type": "code",
   "execution_count": 5,
   "metadata": {},
   "outputs": [
    {
     "name": "stdout",
     "output_type": "stream",
     "text": [
      "[{'name': 'rudy', 'init': 14}, {'name': 'necro', 'init': 4}, {'name': 'bambi', 'init': 19}, {'name': 'steve', 'init': 13}]\n"
     ]
    }
   ],
   "source": [
    "initiative_list_comprehension = [{\"name\": name, \"init\": randint(1, 20)} for name in entities]\n",
    "print(initiative_list_comprehension)"
   ]
  },
  {
   "cell_type": "markdown",
   "metadata": {},
   "source": [
    "## Sorting by Initiative\n",
    "\n",
    "This is going to look strange, but it's way easier this way. [Read more about sorting](https://docs.python.org/3/howto/sorting.html). The `sorted()` function is exactly what we're looking for.\n",
    "\n",
    "We use an anonymous, `lambda` function as the `key` to determine what we are going to sort on. This sorts on the `init` key.\n",
    "\n",
    "Don't get wrapped up in the `lambda` stuff for now. Just know that you use a function in the `key` argument and its return value is used when sorting."
   ]
  },
  {
   "cell_type": "code",
   "execution_count": 6,
   "metadata": {},
   "outputs": [
    {
     "name": "stdout",
     "output_type": "stream",
     "text": [
      "[{'name': 'necro', 'init': 4}, {'name': 'bambi', 'init': 6}, {'name': 'steve', 'init': 17}, {'name': 'rudy', 'init': 18}]\n"
     ]
    }
   ],
   "source": [
    "sorted_initiative = sorted(initiative_list, key=lambda entity: entity[\"init\"])\n",
    "\n",
    "# look at the sorted list\n",
    "print(sorted_initiative)"
   ]
  },
  {
   "cell_type": "markdown",
   "metadata": {},
   "source": [
    "It's sorted! Well, not exactly the way we wanted though... Initiative order is _descending_. `sorted()` takes a `reverse` argument that is `False` by default. Let's fix the order."
   ]
  },
  {
   "cell_type": "code",
   "execution_count": 7,
   "metadata": {},
   "outputs": [
    {
     "name": "stdout",
     "output_type": "stream",
     "text": [
      "[{'name': 'rudy', 'init': 18}, {'name': 'steve', 'init': 17}, {'name': 'bambi', 'init': 6}, {'name': 'necro', 'init': 4}]\n"
     ]
    }
   ],
   "source": [
    "sorted_initiative = sorted(initiative_list, key=lambda entity: entity[\"init\"], reverse=True)\n",
    "\n",
    "# look at the sorted list\n",
    "print(sorted_initiative)"
   ]
  },
  {
   "cell_type": "markdown",
   "metadata": {},
   "source": [
    "## Display the Initiative Order\n",
    "\n",
    "This output is fine for development and for a handful of entities, but this is not at all easy to read. Pretty print!"
   ]
  },
  {
   "cell_type": "code",
   "execution_count": 8,
   "metadata": {},
   "outputs": [
    {
     "name": "stdout",
     "output_type": "stream",
     "text": [
      "Initiative Order\n",
      "18: rudy\n",
      "17: steve\n",
      "6: bambi\n",
      "4: necro\n"
     ]
    }
   ],
   "source": [
    "print(\"Initiative Order\")\n",
    "for entity in sorted_initiative:\n",
    "    print(f'{entity[\"init\"]}: {entity[\"name\"]}')\n",
    "    "
   ]
  },
  {
   "cell_type": "markdown",
   "metadata": {},
   "source": [
    "## Summary\n",
    "\n",
    "We built a sorted initiative list ready to play from a simple list of names. The solutions above are not the only solutions and I encourage you to find your own. Spend some time in the **additional reading** and try to tackle the bonus objectives."
   ]
  },
  {
   "cell_type": "markdown",
   "metadata": {},
   "source": [
    "## Additional Reading\n",
    "\n",
    "- [Python's Beginner Guide](https://wiki.python.org/moin/BeginnersGuide)\n",
    "- [Python's Documentation](https://www.python.org/doc/)\n",
    "- [Google's Python Class](https://developers.google.com/edu/python)\n",
    "- [Learn X in Y Minutes](https://learnxinyminutes.com/docs/python/)\n",
    "- [W3 Schools](https://www.w3schools.com/python/default.asp)"
   ]
  },
  {
   "cell_type": "markdown",
   "metadata": {},
   "source": [
    "# Bonus"
   ]
  },
  {
   "cell_type": "markdown",
   "metadata": {},
   "source": [
    "Reminder of the bonus objectives:\n",
    "\n",
    "- Dice roller\n",
    "- Refactor to use Classes\n",
    "- List indicates current turn\n",
    "- Entities have a random HP pool"
   ]
  },
  {
   "cell_type": "markdown",
   "metadata": {},
   "source": [
    "## Dice Roller\n",
    "\n",
    "We are going to need random numbers a lot, so let's write a function that simulates rolling dice."
   ]
  },
  {
   "cell_type": "code",
   "execution_count": 9,
   "metadata": {},
   "outputs": [
    {
     "name": "stdout",
     "output_type": "stream",
     "text": [
      "Rolling 1d10: 5\n",
      "Rolling 5d10: 34\n"
     ]
    }
   ],
   "source": [
    "def roll_d(dwhat):\n",
    "    return randint(1, dwhat)\n",
    "\n",
    "def roll_xdy(count, die):\n",
    "    total = 0\n",
    "    for _ in range(count):\n",
    "        total += roll_d(die)\n",
    "    return total\n",
    "\n",
    "# Roll a d10\n",
    "print(f'Rolling 1d10: {roll_d(10)}')\n",
    "\n",
    "# Roll 5d10\n",
    "print(f'Rolling 5d10: {roll_xdy(5, 10)}')"
   ]
  },
  {
   "cell_type": "markdown",
   "metadata": {},
   "source": [
    "## Classes\n",
    "\n",
    "Classes will make state easier to track between each entity/player especially as we try to do more with this initiative list."
   ]
  },
  {
   "cell_type": "code",
   "execution_count": 10,
   "metadata": {},
   "outputs": [],
   "source": [
    "class Entity:\n",
    "    def __init__(self, name):\n",
    "        self.name = name\n",
    "        self.init = 0\n",
    "        self.turn = False\n",
    "        # Bonus: Random HP pool\n",
    "        self.hp = roll_xdy(2, 8)\n",
    "        \n",
    "    def roll_initiative(self):\n",
    "        self.init = roll_d(20)\n",
    "        \n",
    "    def reset_initiative(self):\n",
    "        self.init = 0"
   ]
  },
  {
   "cell_type": "markdown",
   "metadata": {},
   "source": [
    "Create entities from our class."
   ]
  },
  {
   "cell_type": "code",
   "execution_count": 11,
   "metadata": {},
   "outputs": [
    {
     "name": "stdout",
     "output_type": "stream",
     "text": [
      "[<__main__.Entity object at 0x7f34146629e8>, <__main__.Entity object at 0x7f34146628d0>, <__main__.Entity object at 0x7f3414662908>, <__main__.Entity object at 0x7f3414662ac8>]\n"
     ]
    }
   ],
   "source": [
    "initiative = []\n",
    "for name in entities:\n",
    "    initiative.append(Entity(name))\n",
    "\n",
    "print(initiative)"
   ]
  },
  {
   "cell_type": "markdown",
   "metadata": {},
   "source": [
    "Woah, wtf?? Yea, we have objects now. Their default string representation is what kind of object it is and its memory address.\n",
    "\n",
    "**Extra credit**: Figure out how to change that default string representation."
   ]
  },
  {
   "cell_type": "code",
   "execution_count": 12,
   "metadata": {},
   "outputs": [
    {
     "name": "stdout",
     "output_type": "stream",
     "text": [
      "[<__main__.Entity object at 0x7f3414662c18>, <__main__.Entity object at 0x7f3414662cc0>, <__main__.Entity object at 0x7f3414662cf8>, <__main__.Entity object at 0x7f3414662d30>]\n"
     ]
    }
   ],
   "source": [
    "## Again, but with list comprehension\n",
    "initiative = [Entity(name) for name in entities]\n",
    "print(initiative)"
   ]
  },
  {
   "cell_type": "markdown",
   "metadata": {},
   "source": [
    "### New Initiative list\n",
    "\n",
    "Output the same initiative list as before."
   ]
  },
  {
   "cell_type": "code",
   "execution_count": 13,
   "metadata": {},
   "outputs": [
    {
     "name": "stdout",
     "output_type": "stream",
     "text": [
      "0: rudy, HP: 13\n",
      "0: necro, HP: 10\n",
      "0: bambi, HP: 13\n",
      "0: steve, HP: 8\n"
     ]
    }
   ],
   "source": [
    "for entity in initiative:\n",
    "    print(f'{entity.init}: {entity.name}, HP: {entity.hp}')"
   ]
  },
  {
   "cell_type": "markdown",
   "metadata": {},
   "source": [
    "You might have expected this, but everyone's initiative is set to 0 when their `Entity` is created. See `self.init` in our `__init__()` function for `Entity`. Time to roll initiative."
   ]
  },
  {
   "cell_type": "code",
   "execution_count": 14,
   "metadata": {},
   "outputs": [
    {
     "name": "stdout",
     "output_type": "stream",
     "text": [
      "5: rudy, HP: 13\n",
      "13: necro, HP: 10\n",
      "4: bambi, HP: 13\n",
      "9: steve, HP: 8\n"
     ]
    }
   ],
   "source": [
    "for entity in initiative:\n",
    "    entity.roll_initiative()\n",
    "    print(f'{entity.init}: {entity.name}, HP: {entity.hp}')"
   ]
  },
  {
   "cell_type": "markdown",
   "metadata": {},
   "source": [
    "And now sorted."
   ]
  },
  {
   "cell_type": "code",
   "execution_count": 15,
   "metadata": {},
   "outputs": [
    {
     "name": "stdout",
     "output_type": "stream",
     "text": [
      "13: necro, HP: 10\n",
      "9: steve, HP: 8\n",
      "5: rudy, HP: 13\n",
      "4: bambi, HP: 13\n"
     ]
    }
   ],
   "source": [
    "initiative = sorted(initiative, key=lambda entity: entity.init, reverse=True)\n",
    "\n",
    "for entity in initiative:\n",
    "    print(f'{entity.init}: {entity.name}, HP: {entity.hp}')"
   ]
  },
  {
   "cell_type": "markdown",
   "metadata": {},
   "source": [
    "### Initiative printer\n",
    "\n",
    "We've been writing the same lines of code over and over agin. Time to write a function to help us out when trying to print a sorted initiative list."
   ]
  },
  {
   "cell_type": "code",
   "execution_count": 16,
   "metadata": {},
   "outputs": [
    {
     "name": "stdout",
     "output_type": "stream",
     "text": [
      "13: necro, HP: 10\n",
      "9: steve, HP: 8\n",
      "5: rudy, HP: 13\n",
      "4: bambi, HP: 13\n"
     ]
    }
   ],
   "source": [
    "def print_initiative(init_list):\n",
    "    for entity in init_list:\n",
    "        print(f'{entity.init}: {entity.name}, HP: {entity.hp}')\n",
    "        \n",
    "# Give our new helper function a try\n",
    "print_initiative(initiative)"
   ]
  },
  {
   "cell_type": "markdown",
   "metadata": {},
   "source": [
    "## Who's turn is it?\n",
    "\n",
    "We will start with the first entity in the initiative order:"
   ]
  },
  {
   "cell_type": "code",
   "execution_count": 17,
   "metadata": {},
   "outputs": [],
   "source": [
    "initiative[0].turn = True"
   ]
  },
  {
   "cell_type": "markdown",
   "metadata": {},
   "source": [
    "Now that it's actually someone's turn, we can display that. Starts with updating our helper function, `print_initiative()`."
   ]
  },
  {
   "cell_type": "code",
   "execution_count": 18,
   "metadata": {},
   "outputs": [
    {
     "name": "stdout",
     "output_type": "stream",
     "text": [
      ">> 13: necro, HP: 10\n",
      "9: steve, HP: 8\n",
      "5: rudy, HP: 13\n",
      "4: bambi, HP: 13\n"
     ]
    }
   ],
   "source": [
    "def print_initiative(init_list):\n",
    "    for entity in init_list:\n",
    "        # This is an inline if. Just saves space.\n",
    "        turn_prefix = \">> \" if entity.turn else \"\"\n",
    "        print(f'{turn_prefix}{entity.init}: {entity.name}, HP: {entity.hp}')\n",
    "              \n",
    "print_initiative(initiative)"
   ]
  },
  {
   "cell_type": "markdown",
   "metadata": {},
   "source": [
    "Managing this list is an additional exercise for the reader."
   ]
  }
 ],
 "metadata": {
  "kernelspec": {
   "display_name": "Python 3",
   "language": "python",
   "name": "python3"
  },
  "language_info": {
   "codemirror_mode": {
    "name": "ipython",
    "version": 3
   },
   "file_extension": ".py",
   "mimetype": "text/x-python",
   "name": "python",
   "nbconvert_exporter": "python",
   "pygments_lexer": "ipython3",
   "version": "3.7.3"
  }
 },
 "nbformat": 4,
 "nbformat_minor": 2
}
