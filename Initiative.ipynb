{
 "cells": [
  {
   "cell_type": "markdown",
   "metadata": {},
   "source": [
    "# Initiative"
   ]
  },
  {
   "cell_type": "markdown",
   "metadata": {},
   "source": [
    "## Objectives\n",
    "\n",
    "- List of entities\n",
    "- List sorted by randomly \"rolled\" initiative\n",
    "\n",
    "**Bonus**\n",
    "\n",
    "- Refactor to use Classes\n",
    "- List indicates current turn\n",
    "- Dice roller\n",
    "- Entities have a random HP pool"
   ]
  },
  {
   "cell_type": "markdown",
   "metadata": {},
   "source": [
    "## List of Entities\n",
    "\n",
    "Simple list of names."
   ]
  },
  {
   "cell_type": "code",
   "execution_count": 1,
   "metadata": {},
   "outputs": [],
   "source": [
    "entities = [\"rudy\", \"necro\", \"bambi\", \"steve\"]"
   ]
  },
  {
   "cell_type": "markdown",
   "metadata": {},
   "source": [
    "## \"Rolling\" Initiative\n",
    "\n",
    "Need to randomly _roll_ for initiative. `random` package has `randint()` for that. [Random link](https://pythonprogramminglanguage.com/randon-numbers/)"
   ]
  },
  {
   "cell_type": "markdown",
   "metadata": {},
   "source": [
    "### dictionaries"
   ]
  },
  {
   "cell_type": "code",
   "execution_count": 2,
   "metadata": {},
   "outputs": [],
   "source": [
    "from random import randint"
   ]
  },
  {
   "cell_type": "markdown",
   "metadata": {},
   "source": [
    "We will use a `for` loop as the first example."
   ]
  },
  {
   "cell_type": "code",
   "execution_count": 3,
   "metadata": {},
   "outputs": [
    {
     "name": "stdout",
     "output_type": "stream",
     "text": [
      "[{'name': 'rudy', 'init': 7}, {'name': 'necro', 'init': 7}, {'name': 'bambi', 'init': 7}, {'name': 'steve', 'init': 15}]\n"
     ]
    }
   ],
   "source": [
    "# empty list to store our entities paired with initiative\n",
    "initiative_list = []\n",
    "\n",
    "for name in entities:\n",
    "    # append each dictionary containing the name and randomly\n",
    "    # generated initiative to our initiative_list\n",
    "    entity = {}\n",
    "    entity[\"name\"] = name\n",
    "    entity[\"init\"] = randint(1, 20)\n",
    "    \n",
    "    initiative_list.append(entity)\n",
    "\n",
    "# see if we got it right\n",
    "print(initiative_list)"
   ]
  },
  {
   "cell_type": "code",
   "execution_count": 4,
   "metadata": {},
   "outputs": [
    {
     "name": "stdout",
     "output_type": "stream",
     "text": [
      "[{'name': 'rudy', 'init': 4}, {'name': 'necro', 'init': 1}, {'name': 'bambi', 'init': 3}, {'name': 'steve', 'init': 5}]\n"
     ]
    }
   ],
   "source": [
    "# short version\n",
    "initiative_list = []\n",
    "\n",
    "for name in entities:\n",
    "    initiative_list.append({\"name\": name, \"init\": randint(1, 20)})\n",
    "\n",
    "# see if we got it right\n",
    "print(initiative_list)"
   ]
  },
  {
   "cell_type": "markdown",
   "metadata": {},
   "source": [
    "Much shorter version, but requires knowledge of _list comprehensions_."
   ]
  },
  {
   "cell_type": "code",
   "execution_count": 5,
   "metadata": {},
   "outputs": [
    {
     "name": "stdout",
     "output_type": "stream",
     "text": [
      "[{'name': 'rudy', 'init': 2}, {'name': 'necro', 'init': 2}, {'name': 'bambi', 'init': 20}, {'name': 'steve', 'init': 19}]\n"
     ]
    }
   ],
   "source": [
    "initiative_list_comprehension = [{\"name\": name, \"init\": randint(1, 20)} for name in entities]\n",
    "print(initiative_list_comprehension)"
   ]
  },
  {
   "cell_type": "markdown",
   "metadata": {},
   "source": [
    "## Sorting by Initiative\n",
    "\n",
    "this is going to look strange, but it's way easier this way. [Sorting link](https://docs.python.org/3/howto/sorting.html)"
   ]
  },
  {
   "cell_type": "code",
   "execution_count": 6,
   "metadata": {},
   "outputs": [
    {
     "name": "stdout",
     "output_type": "stream",
     "text": [
      "[{'name': 'necro', 'init': 1}, {'name': 'bambi', 'init': 3}, {'name': 'rudy', 'init': 4}, {'name': 'steve', 'init': 5}]\n"
     ]
    }
   ],
   "source": [
    "sorted_initiative = sorted(initiative_list, key=lambda entity: entity[\"init\"])\n",
    "\n",
    "# look at the sorted list\n",
    "print(sorted_initiative)"
   ]
  },
  {
   "cell_type": "markdown",
   "metadata": {},
   "source": [
    "It's sorted! Well, not exactly the way we wanted though... Initiative order is _descending_. `sorted()` takes a `reverse` argument that is `False` by default. Let's fix the order."
   ]
  },
  {
   "cell_type": "code",
   "execution_count": 7,
   "metadata": {},
   "outputs": [
    {
     "name": "stdout",
     "output_type": "stream",
     "text": [
      "[{'name': 'steve', 'init': 5}, {'name': 'rudy', 'init': 4}, {'name': 'bambi', 'init': 3}, {'name': 'necro', 'init': 1}]\n"
     ]
    }
   ],
   "source": [
    "sorted_initiative = sorted(initiative_list, key=lambda entity: entity[\"init\"], reverse=True)\n",
    "\n",
    "# look at the sorted list\n",
    "print(sorted_initiative)"
   ]
  },
  {
   "cell_type": "markdown",
   "metadata": {},
   "source": [
    "## Display the Initiative Order\n",
    "\n",
    "This output is fine for development and for a handful of entities, but this is not at all easy to read. Pretty print!"
   ]
  },
  {
   "cell_type": "code",
   "execution_count": 8,
   "metadata": {},
   "outputs": [
    {
     "name": "stdout",
     "output_type": "stream",
     "text": [
      "Initiative Order\n",
      "5: steve\n",
      "4: rudy\n",
      "3: bambi\n",
      "1: necro\n"
     ]
    }
   ],
   "source": [
    "print(\"Initiative Order\")\n",
    "for entity in sorted_initiative:\n",
    "    print(f'{entity[\"init\"]}: {entity[\"name\"]}')\n",
    "    "
   ]
  },
  {
   "cell_type": "markdown",
   "metadata": {},
   "source": [
    "summary and checkout the bonus!"
   ]
  },
  {
   "cell_type": "markdown",
   "metadata": {},
   "source": [
    "# Bonus"
   ]
  },
  {
   "cell_type": "markdown",
   "metadata": {},
   "source": [
    "Reminder of the bonus objectives:\n",
    "\n",
    "- Dice roller\n",
    "- Refactor to use Classes\n",
    "- List indicates current turn\n",
    "- Entities have a random HP pool"
   ]
  },
  {
   "cell_type": "markdown",
   "metadata": {},
   "source": [
    "## Dice Roller\n",
    "\n",
    "We are going to need random numbers a lot, so let's write a function that simulates rolling dice."
   ]
  },
  {
   "cell_type": "code",
   "execution_count": 9,
   "metadata": {},
   "outputs": [
    {
     "name": "stdout",
     "output_type": "stream",
     "text": [
      "2\n",
      "22\n"
     ]
    }
   ],
   "source": [
    "def roll_d(dwhat):\n",
    "    return randint(1, dwhat)\n",
    "\n",
    "def roll_xdy(count, die):\n",
    "    total = 0\n",
    "    for _ in range(count):\n",
    "        total += roll_d(die)\n",
    "    return total\n",
    "\n",
    "# Roll a d10\n",
    "print(roll_d(10))\n",
    "\n",
    "# Roll 5d10\n",
    "print(roll_xdy(5, 10))"
   ]
  },
  {
   "cell_type": "markdown",
   "metadata": {},
   "source": [
    "## Classes\n",
    "\n",
    "TODO"
   ]
  },
  {
   "cell_type": "code",
   "execution_count": 10,
   "metadata": {},
   "outputs": [],
   "source": [
    "class Entity:\n",
    "    def __init__(self, name):\n",
    "        self.name = name\n",
    "        self.init = 0\n",
    "        self.turn = False\n",
    "        # Bonus: Random HP pool\n",
    "        self.hp = roll_xdy(2, 8)\n",
    "        \n",
    "    def roll_initiative(self):\n",
    "        self.init = roll_d(20)\n",
    "        \n",
    "    def reset_initiative(self):\n",
    "        self.init = 0"
   ]
  },
  {
   "cell_type": "markdown",
   "metadata": {},
   "source": [
    "Create entities from our class."
   ]
  },
  {
   "cell_type": "code",
   "execution_count": 11,
   "metadata": {},
   "outputs": [
    {
     "name": "stdout",
     "output_type": "stream",
     "text": [
      "[<__main__.Entity object at 0x7f48b023e898>, <__main__.Entity object at 0x7f48b023e908>, <__main__.Entity object at 0x7f48b023ea20>, <__main__.Entity object at 0x7f48b023eb70>]\n"
     ]
    }
   ],
   "source": [
    "initiative = []\n",
    "for name in entities:\n",
    "    initiative.append(Entity(name))\n",
    "\n",
    "print(initiative)"
   ]
  },
  {
   "cell_type": "markdown",
   "metadata": {},
   "source": [
    "Woah, wtf?? Yea, we have objects now. Their default string representation is what kind of object it is and its memory address.\n",
    "\n",
    "**Extra credit**: Figure out how to change that default string representation."
   ]
  },
  {
   "cell_type": "markdown",
   "metadata": {},
   "source": [
    "### New Initiative list\n",
    "\n",
    "Output the same initiative list as before."
   ]
  },
  {
   "cell_type": "code",
   "execution_count": 12,
   "metadata": {},
   "outputs": [
    {
     "name": "stdout",
     "output_type": "stream",
     "text": [
      "0: rudy, HP: 14\n",
      "0: necro, HP: 6\n",
      "0: bambi, HP: 14\n",
      "0: steve, HP: 13\n"
     ]
    }
   ],
   "source": [
    "for entity in initiative:\n",
    "    print(f'{entity.init}: {entity.name}, HP: {entity.hp}')"
   ]
  },
  {
   "cell_type": "markdown",
   "metadata": {},
   "source": [
    "You might have expected this, but everyone's initiative is set to 0 when their `Entity` is created. Time to roll initiative."
   ]
  },
  {
   "cell_type": "code",
   "execution_count": 13,
   "metadata": {},
   "outputs": [
    {
     "name": "stdout",
     "output_type": "stream",
     "text": [
      "16: rudy, HP: 14\n",
      "12: necro, HP: 6\n",
      "3: bambi, HP: 14\n",
      "17: steve, HP: 13\n"
     ]
    }
   ],
   "source": [
    "for entity in initiative:\n",
    "    entity.roll_initiative()\n",
    "    print(f'{entity.init}: {entity.name}, HP: {entity.hp}')"
   ]
  },
  {
   "cell_type": "markdown",
   "metadata": {},
   "source": [
    "And now sorted."
   ]
  },
  {
   "cell_type": "code",
   "execution_count": 14,
   "metadata": {},
   "outputs": [
    {
     "name": "stdout",
     "output_type": "stream",
     "text": [
      "17: steve, HP: 13\n",
      "16: rudy, HP: 14\n",
      "12: necro, HP: 6\n",
      "3: bambi, HP: 14\n"
     ]
    }
   ],
   "source": [
    "initiative = sorted(initiative, key=lambda entity: entity.init, reverse=True)\n",
    "\n",
    "for entity in initiative:\n",
    "    print(f'{entity.init}: {entity.name}, HP: {entity.hp}')"
   ]
  },
  {
   "cell_type": "markdown",
   "metadata": {},
   "source": [
    "### Initiative printer\n",
    "\n",
    "We've been writing the same lines of code over and over agin. Time to write a function to help us out when trying to print a sorted initiative list."
   ]
  },
  {
   "cell_type": "code",
   "execution_count": 15,
   "metadata": {},
   "outputs": [
    {
     "name": "stdout",
     "output_type": "stream",
     "text": [
      "17: steve, HP: 13\n",
      "16: rudy, HP: 14\n",
      "12: necro, HP: 6\n",
      "3: bambi, HP: 14\n"
     ]
    }
   ],
   "source": [
    "def print_initiative(init_list):\n",
    "    for entity in init_list:\n",
    "        print(f'{entity.init}: {entity.name}, HP: {entity.hp}')\n",
    "        \n",
    "# Give our new helper function a try\n",
    "print_initiative(initiative)"
   ]
  },
  {
   "cell_type": "markdown",
   "metadata": {},
   "source": [
    "## Who's turn is it?\n",
    "\n",
    "We will start with the first entity in the initiative order:"
   ]
  },
  {
   "cell_type": "code",
   "execution_count": 16,
   "metadata": {},
   "outputs": [],
   "source": [
    "initiative[0].turn = True"
   ]
  },
  {
   "cell_type": "markdown",
   "metadata": {},
   "source": [
    "Now that it's actuall someone's turn, we can display that. Starts with updating our helper function, `print_initiative()`."
   ]
  },
  {
   "cell_type": "code",
   "execution_count": 17,
   "metadata": {},
   "outputs": [
    {
     "name": "stdout",
     "output_type": "stream",
     "text": [
      ">> 17: steve, HP: 13\n",
      "16: rudy, HP: 14\n",
      "12: necro, HP: 6\n",
      "3: bambi, HP: 14\n"
     ]
    }
   ],
   "source": [
    "def print_initiative(init_list):\n",
    "    for entity in init_list:\n",
    "        isTurn = \">> \" if entity.turn else \"\"\n",
    "        print(f'{isTurn}{entity.init}: {entity.name}, HP: {entity.hp}')\n",
    "              \n",
    "print_initiative(initiative)"
   ]
  },
  {
   "cell_type": "markdown",
   "metadata": {},
   "source": [
    "Managing this list is an additional exercise for the reader."
   ]
  }
 ],
 "metadata": {
  "kernelspec": {
   "display_name": "Python 3",
   "language": "python",
   "name": "python3"
  },
  "language_info": {
   "codemirror_mode": {
    "name": "ipython",
    "version": 3
   },
   "file_extension": ".py",
   "mimetype": "text/x-python",
   "name": "python",
   "nbconvert_exporter": "python",
   "pygments_lexer": "ipython3",
   "version": "3.7.3"
  }
 },
 "nbformat": 4,
 "nbformat_minor": 2
}
